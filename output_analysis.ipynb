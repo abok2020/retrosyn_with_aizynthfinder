{
 "cells": [
  {
   "cell_type": "code",
   "execution_count": 1,
   "id": "2c13f2f1-53f5-4f14-aa22-6c70b0e633ff",
   "metadata": {},
   "outputs": [],
   "source": [
    "import pandas as pd\n",
    "from aizynthfinder.reactiontree import ReactionTree\n",
    "\n",
    "data = pd.read_json(\"output.json.gz\", orient=\"table\")\n",
    "all_trees = data.trees.values  # This contains a list of all the trees for all the compounds\n",
    "trees_for_first_target = all_trees[0]\n",
    "\n",
    "for itree, tree in enumerate(trees_for_first_target):\n",
    "    imagefile = f\"route{itree:03d}.png\"\n",
    "    ReactionTree.from_dict(tree).to_image().save(imagefile)"
   ]
  },
  {
   "cell_type": "code",
   "execution_count": null,
   "id": "1e184056-3a41-4dd3-9e17-370b83530cfc",
   "metadata": {},
   "outputs": [],
   "source": []
  }
 ],
 "metadata": {
  "kernelspec": {
   "display_name": "Python 3 (ipykernel)",
   "language": "python",
   "name": "python3"
  },
  "language_info": {
   "codemirror_mode": {
    "name": "ipython",
    "version": 3
   },
   "file_extension": ".py",
   "mimetype": "text/x-python",
   "name": "python",
   "nbconvert_exporter": "python",
   "pygments_lexer": "ipython3",
   "version": "3.11.3"
  }
 },
 "nbformat": 4,
 "nbformat_minor": 5
}
